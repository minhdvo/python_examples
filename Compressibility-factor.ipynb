{
 "cells": [
  {
   "cell_type": "markdown",
   "metadata": {},
   "source": [
    "Compute the compressibility factor for a number of pressure values.\n",
    "\\begin{equation*}\n",
    "Z = \\frac {pV} {RT}\n",
    "\\end{equation*}\n",
    "For low pressures, where the gas is ideal, the compressibility factor will be close to 1.0. As the\n",
    "pressure increases, it will change. Thus, the results will indicate the pressure region where the\n",
    "ideal gas is no longer a good assumption. <br>\n",
    "The following code solves for **the Redlich-Kwong, Redlich-Kwong-Soave, and Peng-Robinson equations of state** and plots the compressibility factor versus pressure."
   ]
  },
  {
   "cell_type": "code",
   "execution_count": 1,
   "metadata": {},
   "outputs": [],
   "source": [
    "from scipy . optimize import fsolve\n",
    "import numpy as np\n",
    "import pylab as plt"
   ]
  },
  {
   "cell_type": "code",
   "execution_count": 2,
   "metadata": {},
   "outputs": [],
   "source": [
    "#  Redlich-Kwong eq\n",
    "def specvolRK(v, p):\n",
    "     # in K, atm, l/gmol\n",
    "     # for n-butane\n",
    "     Tc = 425.2\n",
    "     pc = 37.5\n",
    "     T = 500\n",
    "     R = 0.08206\n",
    "     aRK = 0.42748 * (R * Tc) ** 2 / pc\n",
    "     aRK = aRK * (Tc / T) ** 0.5\n",
    "     bRK = 0.08664 * (R * Tc / pc)\n",
    "     return p * v ** 3 - R * T * v ** 2 + (aRK - p * bRK ** 2 - R * T * bRK) * v - aRK * bRK"
   ]
  },
  {
   "cell_type": "code",
   "execution_count": 3,
   "metadata": {},
   "outputs": [],
   "source": [
    "# Redlich-Kwong-Soave Eq\n",
    "def specvolRKS(v, p):\n",
    "     # in K, atm, l/gmol\n",
    "     # for n-butane\n",
    "     Tc = 425.2\n",
    "     pc = 37.5\n",
    "     T = 500\n",
    "     R = 0.08206\n",
    "     acentric = 0.193\n",
    "     mRKS = 0.480 + (1.574 - 0.176*acentric)*acentric\n",
    "     alphaRKS = (1 + mRKS *(1-(T/Tc)**0.5)) ** 2\n",
    "     aRKS = 0.42748 * alphaRKS * (R * Tc) ** 2 / pc\n",
    "     bRKS = 0.08664 * (R * Tc / pc)\n",
    "     return p * v ** 3 - R * T * v ** 2 + (aRKS - p * bRKS ** 2 - R * T * bRKS) * v - aRKS * bRKS"
   ]
  },
  {
   "cell_type": "code",
   "execution_count": 4,
   "metadata": {},
   "outputs": [],
   "source": [
    "# Peng-Robinson Eq\n",
    "def specvolPR(v, p):\n",
    "     # in K, atm, l/gmol\n",
    "     # for n-butane\n",
    "     Tc = 425.2\n",
    "     pc = 37.5\n",
    "     T = 500\n",
    "     R = 0.08206\n",
    "     acentric = 0.193\n",
    "     mPR = 0.37363 + (1.54226 - 0.26992*acentric)*acentric\n",
    "     alphaPR = (1 + mPR *(1-(T/Tc)**0.5)) ** 2\n",
    "     aPR = 0.45724 * alphaPR * (R * Tc) ** 2 / pc\n",
    "     bPR = 0.07780 * (R * Tc / pc)\n",
    "     return p*v**3+(bPR*p - R*T)*v**2+(aPR- p*bPR**2- R*T*bPR)*v + (p*bPR**3 + R*T*bPR**2-aPR*bPR)"
   ]
  },
  {
   "cell_type": "code",
   "execution_count": 5,
   "metadata": {},
   "outputs": [
    {
     "name": "stdout",
     "output_type": "stream",
     "text": [
      "[ 1  6 11 16 21 26]\n",
      "1\n",
      "26\n",
      "[0. 0. 0. 0. 0. 0.]\n"
     ]
    }
   ],
   "source": [
    "T = 500\n",
    "R = 0.08206\n",
    "pressure = np.arange(1, 27, 5)\n",
    "print(pressure)\n",
    "print(pressure[0])\n",
    "print(pressure[5])\n",
    "zcompRK = np.zeros(6,dtype=float)\n",
    "zcompRKS = np.zeros(6,dtype=float)\n",
    "zcompPR = np.zeros(6,dtype=float)\n",
    "print(zcompRK)"
   ]
  },
  {
   "cell_type": "code",
   "execution_count": 6,
   "metadata": {},
   "outputs": [],
   "source": [
    "for i in range(0, 6, 1):\n",
    "     p = pressure[i]\n",
    "     guess = R*T/p\n",
    "     v = fsolve(specvolRK, guess, p)\n",
    "     z = p * v / (R * T)\n",
    "     zcompRK[i] = z\n",
    "     v = fsolve(specvolRKS,v,p)\n",
    "     z = p * v / (R * T)\n",
    "     zcompRKS[i] = z\n",
    "     v = fsolve(specvolPR,v,p)\n",
    "     z = p * v / (R * T)\n",
    "     zcompPR[i] = z"
   ]
  },
  {
   "cell_type": "code",
   "execution_count": 7,
   "metadata": {},
   "outputs": [
    {
     "name": "stdout",
     "output_type": "stream",
     "text": [
      "[0.99434946 0.96569392 0.93633116 0.90621157 0.87528735 0.84351856]\n",
      "[0.99475754 0.96825897 0.94127257 0.91378899 0.88580942 0.85735253]\n",
      "[0.99210447 0.95151368 0.90877788 0.86337293 0.81452122 0.7609774 ]\n"
     ]
    },
    {
     "data": {
      "image/png": "[encoded data removed]",
      "text/plain": [
       "<Figure size 432x288 with 1 Axes>"
      ]
     },
     "metadata": {
      "needs_background": "light"
     },
     "output_type": "display_data"
    }
   ],
   "source": [
    "print(zcompRK)\n",
    "print(zcompRKS)\n",
    "print(zcompPR)\n",
    "plt.plot (pressure,zcompRK,'o-g',label='Redlich-Kwong')\n",
    "plt.plot (pressure,zcompRKS,'x-b',label='Redlich-Kwong-Soave')\n",
    "plt.plot (pressure,zcompPR,'s-r',label='Peng-Robinson')\n",
    "plt.legend(loc='best')\n",
    "plt.xlabel('Pressure (atm)')\n",
    "plt.ylabel('Z')\n",
    "plt.title ('n-Butane')\n",
    "plt.show()"
   ]
  }
 ],
 "metadata": {
  "kernelspec": {
   "display_name": "Python 3",
   "language": "python",
   "name": "python3"
  },
  "language_info": {
   "codemirror_mode": {
    "name": "ipython",
    "version": 3
   },
   "file_extension": ".py",
   "mimetype": "text/x-python",
   "name": "python",
   "nbconvert_exporter": "python",
   "pygments_lexer": "ipython3",
   "version": "3.7.1"
  }
 },
 "nbformat": 4,
 "nbformat_minor": 2
}
