{
 "cells": [
  {
   "cell_type": "markdown",
   "metadata": {},
   "source": [
    "### The two-dimensional diffusion equation\n",
    "\n",
    "\\begin{equation*}\n",
    "\\frac {\\partial U} {\\partial t}   = D  (\\frac {\\partial^2 U} {\\partial x^2} + \\frac {\\partial^2 U} {\\partial y^2})\n",
    "\\end{equation*}\n",
    "\n",
    "where D is the diffusion coefficient. <br>\n",
    "A simple numerical solution on the domain of the unit square 0≤x<1,0≤y<1 approximates U(x,y,t) by the discrete function ${u^{(n)}_{i,j}}$ where x=iΔx, y=jΔy and t=nΔt"
   ]
  },
  {
   "cell_type": "code",
   "execution_count": 1,
   "metadata": {},
   "outputs": [],
   "source": [
    "import numpy as np\n",
    "import matplotlib.pyplot as plt\n",
    "%matplotlib inline"
   ]
  },
  {
   "cell_type": "code",
   "execution_count": 2,
   "metadata": {},
   "outputs": [],
   "source": [
    "# plate size, mm\n",
    "w = h = 10.\n",
    "# intervals in x-, y- directions, mm\n",
    "dx = dy = 0.1\n",
    "# Thermal diffusivity of steel, mm2.s-1\n",
    "D = 4.\n",
    "\n",
    "Tcool, Thot = 300, 700\n",
    "\n",
    "nx, ny = int(w/dx), int(h/dy)\n",
    "\n",
    "dx2, dy2 = dx*dx, dy*dy\n",
    "dt = dx2 * dy2 / (2 * D * (dx2 + dy2))\n",
    "\n",
    "u0 = Tcool * np.ones((nx, ny))\n",
    "u = np.empty((nx, ny))\n"
   ]
  },
  {
   "cell_type": "code",
   "execution_count": 3,
   "metadata": {},
   "outputs": [],
   "source": [
    "# Initial conditions - ring of inner radius r, width dr centred at (cx,cy) (mm)\n",
    "r, cx, cy = 2, 5, 5\n",
    "r2 = r**2\n",
    "for i in range(nx):\n",
    "    for j in range(ny):\n",
    "        p2 = (i*dx-cx)**2 + (j*dy-cy)**2\n",
    "        if p2 < r2:\n",
    "            u0[i,j] = Thot"
   ]
  },
  {
   "cell_type": "code",
   "execution_count": 4,
   "metadata": {},
   "outputs": [],
   "source": [
    "def do_timestep(u0, u):\n",
    "    # Propagate with forward-difference in time, central-difference in space\n",
    "    u[1:-1, 1:-1] = u0[1:-1, 1:-1] + D * dt * (\n",
    "          (u0[2:, 1:-1] - 2*u0[1:-1, 1:-1] + u0[:-2, 1:-1])/dx2\n",
    "          + (u0[1:-1, 2:] - 2*u0[1:-1, 1:-1] + u0[1:-1, :-2])/dy2 )\n",
    "\n",
    "    u0 = u.copy()\n",
    "    return u0, u"
   ]
  },
  {
   "cell_type": "code",
   "execution_count": 5,
   "metadata": {},
   "outputs": [
    {
     "name": "stdout",
     "output_type": "stream",
     "text": [
      "0 1\n",
      "10 2\n",
      "50 3\n",
      "100 4\n"
     ]
    },
    {
     "data": {
      "image/png": "[encoded data removed]",
      "text/plain": [
       "<Figure size 432x288 with 5 Axes>"
      ]
     },
     "metadata": {
      "needs_background": "light"
     },
     "output_type": "display_data"
    }
   ],
   "source": [
    "# Number of timesteps\n",
    "nsteps = 101\n",
    "\n",
    "# Output 4 figures at these timesteps\n",
    "mfig = [0, 10, 50, 100]\n",
    "\n",
    "fignum = 0\n",
    "fig = plt.figure()\n",
    "\n",
    "for m in range(nsteps):\n",
    "    u0, u = do_timestep(u0, u)\n",
    "    if m in mfig:\n",
    "        fignum += 1\n",
    "        print(m, fignum)\n",
    "        ax = fig.add_subplot(220 + fignum)\n",
    "        im = ax.imshow(u.copy(), cmap=plt.get_cmap('hot'), vmin=Tcool,vmax=Thot)\n",
    "        ax.set_axis_off()\n",
    "        ax.set_title('{:.1f} ms'.format(m*dt*1000))\n",
    "        \n",
    "fig.subplots_adjust(right=0.85)\n",
    "cbar_ax = fig.add_axes([0.9, 0.15, 0.03, 0.7])\n",
    "cbar_ax.set_xlabel('$T$ / K', labelpad=20)\n",
    "fig.colorbar(im, cax=cbar_ax)\n",
    "plt.show()"
   ]
  }
 ],
 "metadata": {
  "kernelspec": {
   "display_name": "Python 3",
   "language": "python",
   "name": "python3"
  },
  "language_info": {
   "codemirror_mode": {
    "name": "ipython",
    "version": 3
   },
   "file_extension": ".py",
   "mimetype": "text/x-python",
   "name": "python",
   "nbconvert_exporter": "python",
   "pygments_lexer": "ipython3",
   "version": "3.7.1"
  }
 },
 "nbformat": 4,
 "nbformat_minor": 2
}
