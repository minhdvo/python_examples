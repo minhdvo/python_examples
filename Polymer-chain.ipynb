{
 "cells": [
  {
   "cell_type": "markdown",
   "metadata": {},
   "source": [
    "### Polymer chain\n",
    "A simple model of a polymer in solution treats it as a sequence of randomly-oriented segments: that is, one for which there is no correlation between the orientation of one segment and any other (this is the so-called **random-flight model**). <br>\n",
    "The Polymer object will also calculate the end-to-end distance (R) and will implement a method calc_Rg to calculate and return the polymer's radius of gyration, defined as: <br>\n",
    "\\begin{equation*}\n",
    "R_g   = \\sqrt{\\frac {1}N \\sum_{i=1}^N (r_i - r_{CM})^2}\n",
    "\\end{equation*}"
   ]
  },
  {
   "cell_type": "code",
   "execution_count": 1,
   "metadata": {},
   "outputs": [],
   "source": [
    "import math\n",
    "import random\n",
    "\n",
    "class Polymer:\n",
    "    \"\"\" A class representing a random-flight polymer in solution. \"\"\"\n",
    "\n",
    "    def __init__(self, N, a):\n",
    "        \"\"\"\n",
    "        Initialize a Polymer object with N segments, each of length a.\n",
    "\n",
    "        \"\"\"\n",
    "\n",
    "        self.N, self.a = N, a\n",
    "        # self.xyz holds the segment position vectors as tuples\n",
    "        self.xyz = [(None, None, None)] * N\n",
    "        # End-to-end vector\n",
    "        self.R = None\n",
    "        # Make our polymer by assigning segment positions\n",
    "        self.make_polymer()\n",
    "\n",
    "    def make_polymer(self):\n",
    "        \"\"\"\n",
    "        Calculate the segment positions, centre of mass and end-to-end\n",
    "        distance for a random-flight polymer.\n",
    "\n",
    "        \"\"\"\n",
    "\n",
    "        # Start our polymer off at the origin, (0,0,0).\n",
    "        self.xyz[0] = x, y, z = cx, cy, cz = 0., 0., 0.\n",
    "        for i in range(1, self.N):\n",
    "            # Pick a random orientation for the next segment.\n",
    "            theta = math.acos(2 * random.random() - 1)\n",
    "            phi = random.random() * 2. * math.pi\n",
    "            # Add on the corresponding displacement vector for this segment.\n",
    "            x += self.a * math.sin(theta) * math.cos(phi)\n",
    "            y += self.a * math.sin(theta) * math.sin(phi)\n",
    "            z += self.a * math.cos(theta)\n",
    "            # Store it, and update or centre of mass sum.\n",
    "            self.xyz[i] = x, y, z\n",
    "            cx, cy, cz = cx + x, cy + y, cz + z\n",
    "        # Calculate the position of the centre of mass.\n",
    "        cx, cy, cz = cx / self.N, cy / self.N, cz / self.N\n",
    "        # The end-to-end vector is the position of the last\n",
    "        # segment, since we started at the origin.\n",
    "        self.R = x, y, z\n",
    "\n",
    "        # Finally, re-centre our polymer on the centre of mass.\n",
    "        for i in range(self.N):\n",
    "            self.xyz[i] = self.xyz[i][0]-cx,self.xyz[i][1]-cy,self.xyz[i][2]-cz \n",
    "    def calc_Rg(self):\n",
    "        \"\"\"\n",
    "        Calculates and returns the radius of gyration, Rg. The polymer\n",
    "        segment positions are already given relative to the centre of\n",
    "        mass, so this is just the rms position of the segments.\n",
    "\n",
    "        \"\"\"\n",
    "\n",
    "        self.Rg = 0.\n",
    "        for x,y,z in self.xyz:\n",
    "            self.Rg += x**2 + y**2 + z**2\n",
    "        self.Rg = math.sqrt(self.Rg / self.N)\n",
    "        return self.Rg"
   ]
  },
  {
   "cell_type": "markdown",
   "metadata": {},
   "source": [
    "### test Polymer class"
   ]
  },
  {
   "cell_type": "code",
   "execution_count": 2,
   "metadata": {},
   "outputs": [
    {
     "data": {
      "text/plain": [
       "<__main__.Polymer at 0x173b73165c0>"
      ]
     },
     "execution_count": 2,
     "metadata": {},
     "output_type": "execute_result"
    }
   ],
   "source": [
    "# from polymer import Polymer\n",
    "polymer = Polymer(1000,0.5)\n",
    "polymer"
   ]
  },
  {
   "cell_type": "code",
   "execution_count": 3,
   "metadata": {},
   "outputs": [
    {
     "data": {
      "text/plain": [
       "(9.258658471608127, 11.01576343668339, 4.402488660632159)"
      ]
     },
     "execution_count": 3,
     "metadata": {},
     "output_type": "execute_result"
    }
   ],
   "source": [
    "polymer.R"
   ]
  },
  {
   "cell_type": "code",
   "execution_count": 4,
   "metadata": {},
   "outputs": [
    {
     "data": {
      "text/plain": [
       "6.380825549770334"
      ]
     },
     "execution_count": 4,
     "metadata": {},
     "output_type": "execute_result"
    }
   ],
   "source": [
    "polymer.calc_Rg()"
   ]
  },
  {
   "cell_type": "code",
   "execution_count": 5,
   "metadata": {},
   "outputs": [
    {
     "name": "stdout",
     "output_type": "stream",
     "text": [
      "100\n",
      "200\n",
      "300\n",
      "400\n",
      "500\n",
      "600\n",
      "700\n",
      "800\n",
      "900\n",
      "1000\n",
      "1100\n",
      "1200\n",
      "1300\n",
      "1400\n",
      "1500\n",
      "1600\n",
      "1700\n",
      "1800\n",
      "1900\n",
      "2000\n",
      "2100\n",
      "2200\n",
      "2300\n",
      "2400\n",
      "2500\n",
      "2600\n",
      "2700\n",
      "2800\n",
      "2900\n",
      "3000\n"
     ]
    }
   ],
   "source": [
    "# Compare the observed distribution of end-to-end distances for Np random-\n",
    "# flight polymers with the predicted probability distribution function.\n",
    "\n",
    "import pylab\n",
    "pi = pylab.pi\n",
    "\n",
    "# Calculate R for Np polymers\n",
    "Np = 3000\n",
    "# Each polymer consists of N segments of length a\n",
    "N, a = 1000, 1.\n",
    "R = [None] * Np\n",
    "for i in range(Np):\n",
    "    polymer = Polymer(N, a)\n",
    "    Rx, Ry, Rz = polymer.R\n",
    "    R[i] = pylab.sqrt(Rx**2 + Ry**2 + Rz**2)\n",
    "    # Output a progress indicator every 100 polymers\n",
    "    if not (i+1) % 100:\n",
    "        print(i+1)\n"
   ]
  },
  {
   "cell_type": "code",
   "execution_count": 6,
   "metadata": {},
   "outputs": [],
   "source": [
    "%matplotlib inline"
   ]
  },
  {
   "cell_type": "code",
   "execution_count": 7,
   "metadata": {},
   "outputs": [
    {
     "name": "stderr",
     "output_type": "stream",
     "text": [
      "c:\\users\\mdv28\\appdata\\local\\continuum\\miniconda3\\envs\\mm\\lib\\site-packages\\matplotlib\\axes\\_axes.py:6510: MatplotlibDeprecationWarning: \n",
      "The 'normed' kwarg was deprecated in Matplotlib 2.1 and will be removed in 3.1. Use 'density' instead.\n",
      "  alternative=\"'density'\", removal=\"3.1\")\n"
     ]
    },
    {
     "data": {
      "image/png": "[encoded data removed]",
      "text/plain": [
       "<Figure size 432x288 with 1 Axes>"
      ]
     },
     "metadata": {
      "needs_background": "light"
     },
     "output_type": "display_data"
    }
   ],
   "source": [
    "# Plot the distribution of Rx as a normalized histogram\n",
    "# using 50 bins\n",
    "pylab.hist(R, 50, normed=1)\n",
    "pylab.show()"
   ]
  },
  {
   "cell_type": "code",
   "execution_count": 8,
   "metadata": {},
   "outputs": [
    {
     "data": {
      "image/png": "[encoded data removed]",
      "text/plain": [
       "<Figure size 432x288 with 1 Axes>"
      ]
     },
     "metadata": {
      "needs_background": "light"
     },
     "output_type": "display_data"
    }
   ],
   "source": [
    "pylab.hist(R, 50, normed=1)\n",
    "# Plot the theoretical probability distribution, Pr, as a function of r\n",
    "r = pylab.linspace(0,200,1000)\n",
    "msr = N * a**2\n",
    "Pr = 4.*pi*r**2 * (2 * pi * msr / 3)**-1.5 * pylab.exp(-3*r**2 / 2 / msr)\n",
    "pylab.plot(r, Pr, lw=2, c='r')\n",
    "pylab.xlabel('R')\n",
    "pylab.ylabel('P(R)')\n",
    "pylab.show()"
   ]
  }
 ],
 "metadata": {
  "kernelspec": {
   "display_name": "Python 3",
   "language": "python",
   "name": "python3"
  },
  "language_info": {
   "codemirror_mode": {
    "name": "ipython",
    "version": 3
   },
   "file_extension": ".py",
   "mimetype": "text/x-python",
   "name": "python",
   "nbconvert_exporter": "python",
   "pygments_lexer": "ipython3",
   "version": "3.7.1"
  }
 },
 "nbformat": 4,
 "nbformat_minor": 2
}
